{
 "cells": [
  {
   "cell_type": "code",
   "execution_count": 1,
   "id": "7dd5f4ab",
   "metadata": {},
   "outputs": [],
   "source": [
    "import platform"
   ]
  },
  {
   "cell_type": "code",
   "execution_count": 2,
   "id": "533c79d8",
   "metadata": {},
   "outputs": [],
   "source": [
    "def GiveSysConfig():\n",
    "    return platform.uname()"
   ]
  },
  {
   "cell_type": "code",
   "execution_count": null,
   "id": "06f4b502",
   "metadata": {},
   "outputs": [],
   "source": []
  }
 ],
 "metadata": {
  "kernelspec": {
   "display_name": "Python 3 (ipykernel)",
   "language": "python",
   "name": "python3"
  },
  "language_info": {
   "codemirror_mode": {
    "name": "ipython",
    "version": 3
   },
   "file_extension": ".py",
   "mimetype": "text/x-python",
   "name": "python",
   "nbconvert_exporter": "python",
   "pygments_lexer": "ipython3",
   "version": "3.9.7"
  }
 },
 "nbformat": 4,
 "nbformat_minor": 5
}
