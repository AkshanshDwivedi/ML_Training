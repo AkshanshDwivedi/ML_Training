{
 "cells": [
  {
   "cell_type": "code",
   "execution_count": 12,
   "id": "2d3d82db",
   "metadata": {},
   "outputs": [],
   "source": [
    "import os\n",
    "os.listdir()\n",
    "f1=open(\"newFile.txt\",'w')\n",
    "for file in os.listdir():\n",
    "    if file.endswith(\".txt\"):\n",
    "        f = open(file)\n",
    "        for line in f:\n",
    "            f1.write(line)\n",
    "        f1.write(\"\\n\")\n",
    "        f.close()\n",
    "f1.close()"
   ]
  },
  {
   "cell_type": "code",
   "execution_count": null,
   "id": "ebe2195a",
   "metadata": {},
   "outputs": [],
   "source": []
  }
 ],
 "metadata": {
  "kernelspec": {
   "display_name": "Python 3 (ipykernel)",
   "language": "python",
   "name": "python3"
  },
  "language_info": {
   "codemirror_mode": {
    "name": "ipython",
    "version": 3
   },
   "file_extension": ".py",
   "mimetype": "text/x-python",
   "name": "python",
   "nbconvert_exporter": "python",
   "pygments_lexer": "ipython3",
   "version": "3.9.7"
  }
 },
 "nbformat": 4,
 "nbformat_minor": 5
}
