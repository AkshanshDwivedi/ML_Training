{
 "cells": [
  {
   "cell_type": "code",
   "execution_count": 1,
   "id": "e2394a98",
   "metadata": {},
   "outputs": [],
   "source": [
    "def RetIntFromDict(d):\n",
    "    l=[]\n",
    "    for i in d.values():\n",
    "        if type(i)==int:\n",
    "            l.append(i)\n",
    "        elif type(i)==dict:\n",
    "            for j in i.values():\n",
    "                if type(j) == int:\n",
    "                    l.append(j)\n",
    "        elif type(i) == float or type(i) ==str or type(i) == complex:\n",
    "            pass\n",
    "    return(l)"
   ]
  }
 ],
 "metadata": {
  "kernelspec": {
   "display_name": "Python 3 (ipykernel)",
   "language": "python",
   "name": "python3"
  },
  "language_info": {
   "codemirror_mode": {
    "name": "ipython",
    "version": 3
   },
   "file_extension": ".py",
   "mimetype": "text/x-python",
   "name": "python",
   "nbconvert_exporter": "python",
   "pygments_lexer": "ipython3",
   "version": "3.9.7"
  }
 },
 "nbformat": 4,
 "nbformat_minor": 5
}
